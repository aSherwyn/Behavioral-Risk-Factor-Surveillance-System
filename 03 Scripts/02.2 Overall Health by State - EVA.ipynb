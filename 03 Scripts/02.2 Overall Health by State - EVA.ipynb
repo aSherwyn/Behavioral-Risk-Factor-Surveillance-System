{
 "cells": [
  {
   "cell_type": "markdown",
   "id": "ae5410b1",
   "metadata": {},
   "source": [
    "# 02.2 Overall Health by State - EVA\n",
    "\n",
    "1. Imports and display options\n",
    "1. Data prep\n",
    "1. Bar charts\n",
    "1. \n",
    "1. Conclusion"
   ]
  },
  {
   "cell_type": "markdown",
   "id": "272a737a",
   "metadata": {},
   "source": [
    "## 1. Imports and display options"
   ]
  },
  {
   "cell_type": "code",
   "execution_count": 1,
   "id": "9e6375f3",
   "metadata": {},
   "outputs": [],
   "source": [
    "import pandas as pd\n",
    "import numpy as np\n",
    "import os\n",
    "import matplotlib.pyplot as plt\n",
    "import matplotlib\n",
    "import seaborn as sns"
   ]
  },
  {
   "cell_type": "code",
   "execution_count": 2,
   "id": "1517dde6",
   "metadata": {},
   "outputs": [],
   "source": [
    "#Creating a path to the root directory for this project\n",
    "\n",
    "path = r'C:\\Users\\theva\\Documents\\Data Analyses\\BRFSS'"
   ]
  },
  {
   "cell_type": "code",
   "execution_count": 3,
   "id": "e7b87fcb",
   "metadata": {
    "scrolled": true
   },
   "outputs": [],
   "source": [
    "#Importing products.csv to df_prods\n",
    "df = pd.read_pickle(os.path.join(path, '02 Data','Prepared Data', 'BRFSS Overall Health by State TABLEAU.pkl'))"
   ]
  },
  {
   "cell_type": "code",
   "execution_count": 4,
   "id": "1650f880",
   "metadata": {
    "scrolled": true
   },
   "outputs": [
    {
     "data": {
      "text/plain": [
       "(385, 35)"
      ]
     },
     "execution_count": 4,
     "metadata": {},
     "output_type": "execute_result"
    }
   ],
   "source": [
    "#Checking df\n",
    "\n",
    "df.shape"
   ]
  },
  {
   "cell_type": "code",
   "execution_count": 5,
   "id": "ec98d252",
   "metadata": {
    "scrolled": false
   },
   "outputs": [
    {
     "data": {
      "text/html": [
       "<div>\n",
       "<style scoped>\n",
       "    .dataframe tbody tr th:only-of-type {\n",
       "        vertical-align: middle;\n",
       "    }\n",
       "\n",
       "    .dataframe tbody tr th {\n",
       "        vertical-align: top;\n",
       "    }\n",
       "\n",
       "    .dataframe thead th {\n",
       "        text-align: right;\n",
       "    }\n",
       "</style>\n",
       "<table border=\"1\" class=\"dataframe\">\n",
       "  <thead>\n",
       "    <tr style=\"text-align: right;\">\n",
       "      <th></th>\n",
       "      <th>location</th>\n",
       "      <th>year</th>\n",
       "      <th>BMI: Obese (BMI 30.0 - 99.8)</th>\n",
       "      <th>BMI: Overweight (BMI 25.0-29.9)</th>\n",
       "      <th>BMI: Normal Weight (BMI 18.5-24.9)</th>\n",
       "      <th>BMI: Underweight (BMI 12.0-18.4)</th>\n",
       "      <th>General health: Excellent</th>\n",
       "      <th>General health: Very good</th>\n",
       "      <th>General health: Good</th>\n",
       "      <th>General health: Fair</th>\n",
       "      <th>...</th>\n",
       "      <th>Vegetables eaten: Daily</th>\n",
       "      <th>Vegetables eaten: Not daily</th>\n",
       "      <th>Aerobic activity per week: Over 150 min</th>\n",
       "      <th>Aerobic activity per week: Under 150 min</th>\n",
       "      <th>Met physical activity guidelines: Yes</th>\n",
       "      <th>Met physical activity guidelines: No</th>\n",
       "      <th>Strength training: 2x+ per week</th>\n",
       "      <th>Strength training: 1x- per week</th>\n",
       "      <th>Physically active in last month: Yes</th>\n",
       "      <th>Physically active in last month: No</th>\n",
       "    </tr>\n",
       "  </thead>\n",
       "  <tbody>\n",
       "    <tr>\n",
       "      <th>0</th>\n",
       "      <td>Alabama</td>\n",
       "      <td>2015</td>\n",
       "      <td>35.6</td>\n",
       "      <td>33.0</td>\n",
       "      <td>28.9</td>\n",
       "      <td>2.4</td>\n",
       "      <td>16.2</td>\n",
       "      <td>29.1</td>\n",
       "      <td>32.5</td>\n",
       "      <td>15.2</td>\n",
       "      <td>...</td>\n",
       "      <td>72.2</td>\n",
       "      <td>27.8</td>\n",
       "      <td>44.6</td>\n",
       "      <td>55.4</td>\n",
       "      <td>16.7</td>\n",
       "      <td>83.3</td>\n",
       "      <td>25.8</td>\n",
       "      <td>74.2</td>\n",
       "      <td>68.1</td>\n",
       "      <td>31.9</td>\n",
       "    </tr>\n",
       "    <tr>\n",
       "      <th>1</th>\n",
       "      <td>Alabama</td>\n",
       "      <td>2016</td>\n",
       "      <td>35.7</td>\n",
       "      <td>33.8</td>\n",
       "      <td>28.4</td>\n",
       "      <td>2.1</td>\n",
       "      <td>15.2</td>\n",
       "      <td>29.8</td>\n",
       "      <td>32.5</td>\n",
       "      <td>15.7</td>\n",
       "      <td>...</td>\n",
       "      <td>NaN</td>\n",
       "      <td>NaN</td>\n",
       "      <td>NaN</td>\n",
       "      <td>NaN</td>\n",
       "      <td>NaN</td>\n",
       "      <td>NaN</td>\n",
       "      <td>NaN</td>\n",
       "      <td>NaN</td>\n",
       "      <td>70.6</td>\n",
       "      <td>29.4</td>\n",
       "    </tr>\n",
       "    <tr>\n",
       "      <th>2</th>\n",
       "      <td>Alabama</td>\n",
       "      <td>2017</td>\n",
       "      <td>36.3</td>\n",
       "      <td>33.9</td>\n",
       "      <td>28.5</td>\n",
       "      <td>1.3</td>\n",
       "      <td>15.4</td>\n",
       "      <td>28.2</td>\n",
       "      <td>33.1</td>\n",
       "      <td>16.2</td>\n",
       "      <td>...</td>\n",
       "      <td>80.7</td>\n",
       "      <td>19.3</td>\n",
       "      <td>42.8</td>\n",
       "      <td>57.2</td>\n",
       "      <td>16.1</td>\n",
       "      <td>83.9</td>\n",
       "      <td>26.0</td>\n",
       "      <td>74.0</td>\n",
       "      <td>68.0</td>\n",
       "      <td>32.0</td>\n",
       "    </tr>\n",
       "    <tr>\n",
       "      <th>3</th>\n",
       "      <td>Alabama</td>\n",
       "      <td>2018</td>\n",
       "      <td>36.2</td>\n",
       "      <td>33.4</td>\n",
       "      <td>28.4</td>\n",
       "      <td>2.0</td>\n",
       "      <td>14.5</td>\n",
       "      <td>28.6</td>\n",
       "      <td>34.0</td>\n",
       "      <td>15.7</td>\n",
       "      <td>...</td>\n",
       "      <td>NaN</td>\n",
       "      <td>NaN</td>\n",
       "      <td>NaN</td>\n",
       "      <td>NaN</td>\n",
       "      <td>NaN</td>\n",
       "      <td>NaN</td>\n",
       "      <td>NaN</td>\n",
       "      <td>NaN</td>\n",
       "      <td>69.3</td>\n",
       "      <td>30.7</td>\n",
       "    </tr>\n",
       "    <tr>\n",
       "      <th>4</th>\n",
       "      <td>Alabama</td>\n",
       "      <td>2019</td>\n",
       "      <td>36.1</td>\n",
       "      <td>34.2</td>\n",
       "      <td>27.5</td>\n",
       "      <td>2.2</td>\n",
       "      <td>15.4</td>\n",
       "      <td>29.5</td>\n",
       "      <td>32.4</td>\n",
       "      <td>16.2</td>\n",
       "      <td>...</td>\n",
       "      <td>77.7</td>\n",
       "      <td>22.3</td>\n",
       "      <td>44.8</td>\n",
       "      <td>55.2</td>\n",
       "      <td>17.6</td>\n",
       "      <td>82.4</td>\n",
       "      <td>29.2</td>\n",
       "      <td>70.8</td>\n",
       "      <td>68.5</td>\n",
       "      <td>31.5</td>\n",
       "    </tr>\n",
       "  </tbody>\n",
       "</table>\n",
       "<p>5 rows × 35 columns</p>\n",
       "</div>"
      ],
      "text/plain": [
       "  location  year  BMI: Obese (BMI 30.0 - 99.8)  \\\n",
       "0  Alabama  2015                          35.6   \n",
       "1  Alabama  2016                          35.7   \n",
       "2  Alabama  2017                          36.3   \n",
       "3  Alabama  2018                          36.2   \n",
       "4  Alabama  2019                          36.1   \n",
       "\n",
       "   BMI: Overweight (BMI 25.0-29.9)  BMI: Normal Weight (BMI 18.5-24.9)  \\\n",
       "0                             33.0                                28.9   \n",
       "1                             33.8                                28.4   \n",
       "2                             33.9                                28.5   \n",
       "3                             33.4                                28.4   \n",
       "4                             34.2                                27.5   \n",
       "\n",
       "   BMI: Underweight (BMI 12.0-18.4)  General health: Excellent  \\\n",
       "0                               2.4                       16.2   \n",
       "1                               2.1                       15.2   \n",
       "2                               1.3                       15.4   \n",
       "3                               2.0                       14.5   \n",
       "4                               2.2                       15.4   \n",
       "\n",
       "   General health: Very good  General health: Good  General health: Fair  ...  \\\n",
       "0                       29.1                  32.5                  15.2  ...   \n",
       "1                       29.8                  32.5                  15.7  ...   \n",
       "2                       28.2                  33.1                  16.2  ...   \n",
       "3                       28.6                  34.0                  15.7  ...   \n",
       "4                       29.5                  32.4                  16.2  ...   \n",
       "\n",
       "   Vegetables eaten: Daily  Vegetables eaten: Not daily  \\\n",
       "0                     72.2                         27.8   \n",
       "1                      NaN                          NaN   \n",
       "2                     80.7                         19.3   \n",
       "3                      NaN                          NaN   \n",
       "4                     77.7                         22.3   \n",
       "\n",
       "   Aerobic activity per week: Over 150 min  \\\n",
       "0                                     44.6   \n",
       "1                                      NaN   \n",
       "2                                     42.8   \n",
       "3                                      NaN   \n",
       "4                                     44.8   \n",
       "\n",
       "   Aerobic activity per week: Under 150 min  \\\n",
       "0                                      55.4   \n",
       "1                                       NaN   \n",
       "2                                      57.2   \n",
       "3                                       NaN   \n",
       "4                                      55.2   \n",
       "\n",
       "   Met physical activity guidelines: Yes  \\\n",
       "0                                   16.7   \n",
       "1                                    NaN   \n",
       "2                                   16.1   \n",
       "3                                    NaN   \n",
       "4                                   17.6   \n",
       "\n",
       "   Met physical activity guidelines: No  Strength training: 2x+ per week  \\\n",
       "0                                  83.3                             25.8   \n",
       "1                                   NaN                              NaN   \n",
       "2                                  83.9                             26.0   \n",
       "3                                   NaN                              NaN   \n",
       "4                                  82.4                             29.2   \n",
       "\n",
       "   Strength training: 1x- per week  Physically active in last month: Yes  \\\n",
       "0                             74.2                                  68.1   \n",
       "1                              NaN                                  70.6   \n",
       "2                             74.0                                  68.0   \n",
       "3                              NaN                                  69.3   \n",
       "4                             70.8                                  68.5   \n",
       "\n",
       "   Physically active in last month: No  \n",
       "0                                 31.9  \n",
       "1                                 29.4  \n",
       "2                                 32.0  \n",
       "3                                 30.7  \n",
       "4                                 31.5  \n",
       "\n",
       "[5 rows x 35 columns]"
      ]
     },
     "execution_count": 5,
     "metadata": {},
     "output_type": "execute_result"
    }
   ],
   "source": [
    "#Checking df\n",
    "\n",
    "df.head()"
   ]
  },
  {
   "cell_type": "code",
   "execution_count": 33,
   "id": "806281cf",
   "metadata": {},
   "outputs": [],
   "source": [
    "#Adjusting display settings\n",
    "\n",
    "pd.set_option('display.max_rows', 200)\n",
    "pd.set_option('display.max_colwidth', None)\n",
    "\n",
    "%matplotlib inline\n",
    "sns.set()"
   ]
  },
  {
   "cell_type": "markdown",
   "id": "906d2eb5",
   "metadata": {},
   "source": [
    "# 2. Data Prep"
   ]
  },
  {
   "cell_type": "code",
   "execution_count": 7,
   "id": "9e493693",
   "metadata": {},
   "outputs": [
    {
     "data": {
      "text/plain": [
       "Index(['location', 'year', 'BMI: Obese (BMI 30.0 - 99.8)',\n",
       "       'BMI: Overweight (BMI 25.0-29.9)', 'BMI: Normal Weight (BMI 18.5-24.9)',\n",
       "       'BMI: Underweight (BMI 12.0-18.4)', 'General health: Excellent',\n",
       "       'General health: Very good', 'General health: Good',\n",
       "       'General health: Fair', 'General health: Poor',\n",
       "       'Health status: Good or Better', 'Health status: Fair or Poor',\n",
       "       'Doc visit: Past year', 'Doc visit: Past 2 years',\n",
       "       'Doc visit: Past 5 years', 'Doc visit: 5+ years ago',\n",
       "       'Doc visit: Never', 'Concentrate, remember, decide: Difficult',\n",
       "       'Concentrate, remember, decide: Not difficult',\n",
       "       'Bad mental health days: 0', 'Bad mental health days: 1-13',\n",
       "       'Bad mental health days: 14+', 'Fruit eaten: Daily',\n",
       "       'Fruit eaten: Not daily', 'Vegetables eaten: Daily',\n",
       "       'Vegetables eaten: Not daily',\n",
       "       'Aerobic activity per week: Over 150 min',\n",
       "       'Aerobic activity per week: Under 150 min',\n",
       "       'Met physical activity guidelines: Yes',\n",
       "       'Met physical activity guidelines: No',\n",
       "       'Strength training: 2x+ per week', 'Strength training: 1x- per week',\n",
       "       'Physically active in last month: Yes',\n",
       "       'Physically active in last month: No'],\n",
       "      dtype='object')"
      ]
     },
     "execution_count": 7,
     "metadata": {},
     "output_type": "execute_result"
    }
   ],
   "source": [
    "# Getting columnnames\n",
    "\n",
    "df.columns"
   ]
  },
  {
   "cell_type": "code",
   "execution_count": 8,
   "id": "a947cf0a",
   "metadata": {},
   "outputs": [],
   "source": [
    "# Dropping location, calculated health statuses, and negative response to binary question pairs, \n",
    "# i.e.: keeping 'Fruit eaten: Daily' and dropping 'Fruit eaten: Not daily'.\n",
    "\n",
    "eva = df.drop(columns=['location',\n",
    "                       'Health status: Good or Better',\n",
    "                       'Health status: Fair or Poor',\n",
    "                      'Concentrate, remember, decide: Not difficult',\n",
    "                      'Fruit eaten: Not daily',\n",
    "                      'Vegetables eaten: Not daily',\n",
    "                      'Aerobic activity per week: Under 150 min',\n",
    "                      'Met physical activity guidelines: No',\n",
    "                      'Strength training: 1x- per week',\n",
    "                      'Physically active in last month: No'])"
   ]
  },
  {
   "cell_type": "code",
   "execution_count": 9,
   "id": "e2b96f37",
   "metadata": {
    "scrolled": true
   },
   "outputs": [
    {
     "data": {
      "text/html": [
       "<div>\n",
       "<style scoped>\n",
       "    .dataframe tbody tr th:only-of-type {\n",
       "        vertical-align: middle;\n",
       "    }\n",
       "\n",
       "    .dataframe tbody tr th {\n",
       "        vertical-align: top;\n",
       "    }\n",
       "\n",
       "    .dataframe thead th {\n",
       "        text-align: right;\n",
       "    }\n",
       "</style>\n",
       "<table border=\"1\" class=\"dataframe\">\n",
       "  <thead>\n",
       "    <tr style=\"text-align: right;\">\n",
       "      <th></th>\n",
       "      <th>year</th>\n",
       "      <th>BMI: Obese (BMI 30.0 - 99.8)</th>\n",
       "      <th>BMI: Overweight (BMI 25.0-29.9)</th>\n",
       "      <th>BMI: Normal Weight (BMI 18.5-24.9)</th>\n",
       "      <th>BMI: Underweight (BMI 12.0-18.4)</th>\n",
       "      <th>General health: Excellent</th>\n",
       "      <th>General health: Very good</th>\n",
       "      <th>General health: Good</th>\n",
       "      <th>General health: Fair</th>\n",
       "      <th>General health: Poor</th>\n",
       "      <th>...</th>\n",
       "      <th>Concentrate, remember, decide: Difficult</th>\n",
       "      <th>Bad mental health days: 0</th>\n",
       "      <th>Bad mental health days: 1-13</th>\n",
       "      <th>Bad mental health days: 14+</th>\n",
       "      <th>Fruit eaten: Daily</th>\n",
       "      <th>Vegetables eaten: Daily</th>\n",
       "      <th>Aerobic activity per week: Over 150 min</th>\n",
       "      <th>Met physical activity guidelines: Yes</th>\n",
       "      <th>Strength training: 2x+ per week</th>\n",
       "      <th>Physically active in last month: Yes</th>\n",
       "    </tr>\n",
       "  </thead>\n",
       "  <tbody>\n",
       "    <tr>\n",
       "      <th>0</th>\n",
       "      <td>2015</td>\n",
       "      <td>35.6</td>\n",
       "      <td>33.0</td>\n",
       "      <td>28.9</td>\n",
       "      <td>2.4</td>\n",
       "      <td>16.2</td>\n",
       "      <td>29.1</td>\n",
       "      <td>32.5</td>\n",
       "      <td>15.2</td>\n",
       "      <td>7.0</td>\n",
       "      <td>...</td>\n",
       "      <td>15.0</td>\n",
       "      <td>NaN</td>\n",
       "      <td>NaN</td>\n",
       "      <td>NaN</td>\n",
       "      <td>51.7</td>\n",
       "      <td>72.2</td>\n",
       "      <td>44.6</td>\n",
       "      <td>16.7</td>\n",
       "      <td>25.8</td>\n",
       "      <td>68.1</td>\n",
       "    </tr>\n",
       "    <tr>\n",
       "      <th>1</th>\n",
       "      <td>2016</td>\n",
       "      <td>35.7</td>\n",
       "      <td>33.8</td>\n",
       "      <td>28.4</td>\n",
       "      <td>2.1</td>\n",
       "      <td>15.2</td>\n",
       "      <td>29.8</td>\n",
       "      <td>32.5</td>\n",
       "      <td>15.7</td>\n",
       "      <td>6.9</td>\n",
       "      <td>...</td>\n",
       "      <td>14.3</td>\n",
       "      <td>NaN</td>\n",
       "      <td>NaN</td>\n",
       "      <td>NaN</td>\n",
       "      <td>NaN</td>\n",
       "      <td>NaN</td>\n",
       "      <td>NaN</td>\n",
       "      <td>NaN</td>\n",
       "      <td>NaN</td>\n",
       "      <td>70.6</td>\n",
       "    </tr>\n",
       "    <tr>\n",
       "      <th>2</th>\n",
       "      <td>2017</td>\n",
       "      <td>36.3</td>\n",
       "      <td>33.9</td>\n",
       "      <td>28.5</td>\n",
       "      <td>1.3</td>\n",
       "      <td>15.4</td>\n",
       "      <td>28.2</td>\n",
       "      <td>33.1</td>\n",
       "      <td>16.2</td>\n",
       "      <td>7.1</td>\n",
       "      <td>...</td>\n",
       "      <td>15.8</td>\n",
       "      <td>NaN</td>\n",
       "      <td>NaN</td>\n",
       "      <td>NaN</td>\n",
       "      <td>55.2</td>\n",
       "      <td>80.7</td>\n",
       "      <td>42.8</td>\n",
       "      <td>16.1</td>\n",
       "      <td>26.0</td>\n",
       "      <td>68.0</td>\n",
       "    </tr>\n",
       "    <tr>\n",
       "      <th>3</th>\n",
       "      <td>2018</td>\n",
       "      <td>36.2</td>\n",
       "      <td>33.4</td>\n",
       "      <td>28.4</td>\n",
       "      <td>2.0</td>\n",
       "      <td>14.5</td>\n",
       "      <td>28.6</td>\n",
       "      <td>34.0</td>\n",
       "      <td>15.7</td>\n",
       "      <td>7.2</td>\n",
       "      <td>...</td>\n",
       "      <td>15.8</td>\n",
       "      <td>NaN</td>\n",
       "      <td>NaN</td>\n",
       "      <td>NaN</td>\n",
       "      <td>NaN</td>\n",
       "      <td>NaN</td>\n",
       "      <td>NaN</td>\n",
       "      <td>NaN</td>\n",
       "      <td>NaN</td>\n",
       "      <td>69.3</td>\n",
       "    </tr>\n",
       "    <tr>\n",
       "      <th>4</th>\n",
       "      <td>2019</td>\n",
       "      <td>36.1</td>\n",
       "      <td>34.2</td>\n",
       "      <td>27.5</td>\n",
       "      <td>2.2</td>\n",
       "      <td>15.4</td>\n",
       "      <td>29.5</td>\n",
       "      <td>32.4</td>\n",
       "      <td>16.2</td>\n",
       "      <td>6.5</td>\n",
       "      <td>...</td>\n",
       "      <td>16.7</td>\n",
       "      <td>58.0</td>\n",
       "      <td>24.5</td>\n",
       "      <td>17.5</td>\n",
       "      <td>53.9</td>\n",
       "      <td>77.7</td>\n",
       "      <td>44.8</td>\n",
       "      <td>17.6</td>\n",
       "      <td>29.2</td>\n",
       "      <td>68.5</td>\n",
       "    </tr>\n",
       "  </tbody>\n",
       "</table>\n",
       "<p>5 rows × 25 columns</p>\n",
       "</div>"
      ],
      "text/plain": [
       "   year  BMI: Obese (BMI 30.0 - 99.8)  BMI: Overweight (BMI 25.0-29.9)  \\\n",
       "0  2015                          35.6                             33.0   \n",
       "1  2016                          35.7                             33.8   \n",
       "2  2017                          36.3                             33.9   \n",
       "3  2018                          36.2                             33.4   \n",
       "4  2019                          36.1                             34.2   \n",
       "\n",
       "   BMI: Normal Weight (BMI 18.5-24.9)  BMI: Underweight (BMI 12.0-18.4)  \\\n",
       "0                                28.9                               2.4   \n",
       "1                                28.4                               2.1   \n",
       "2                                28.5                               1.3   \n",
       "3                                28.4                               2.0   \n",
       "4                                27.5                               2.2   \n",
       "\n",
       "   General health: Excellent  General health: Very good  General health: Good  \\\n",
       "0                       16.2                       29.1                  32.5   \n",
       "1                       15.2                       29.8                  32.5   \n",
       "2                       15.4                       28.2                  33.1   \n",
       "3                       14.5                       28.6                  34.0   \n",
       "4                       15.4                       29.5                  32.4   \n",
       "\n",
       "   General health: Fair  General health: Poor  ...  \\\n",
       "0                  15.2                   7.0  ...   \n",
       "1                  15.7                   6.9  ...   \n",
       "2                  16.2                   7.1  ...   \n",
       "3                  15.7                   7.2  ...   \n",
       "4                  16.2                   6.5  ...   \n",
       "\n",
       "   Concentrate, remember, decide: Difficult  Bad mental health days: 0  \\\n",
       "0                                      15.0                        NaN   \n",
       "1                                      14.3                        NaN   \n",
       "2                                      15.8                        NaN   \n",
       "3                                      15.8                        NaN   \n",
       "4                                      16.7                       58.0   \n",
       "\n",
       "   Bad mental health days: 1-13  Bad mental health days: 14+  \\\n",
       "0                           NaN                          NaN   \n",
       "1                           NaN                          NaN   \n",
       "2                           NaN                          NaN   \n",
       "3                           NaN                          NaN   \n",
       "4                          24.5                         17.5   \n",
       "\n",
       "   Fruit eaten: Daily  Vegetables eaten: Daily  \\\n",
       "0                51.7                     72.2   \n",
       "1                 NaN                      NaN   \n",
       "2                55.2                     80.7   \n",
       "3                 NaN                      NaN   \n",
       "4                53.9                     77.7   \n",
       "\n",
       "   Aerobic activity per week: Over 150 min  \\\n",
       "0                                     44.6   \n",
       "1                                      NaN   \n",
       "2                                     42.8   \n",
       "3                                      NaN   \n",
       "4                                     44.8   \n",
       "\n",
       "   Met physical activity guidelines: Yes  Strength training: 2x+ per week  \\\n",
       "0                                   16.7                             25.8   \n",
       "1                                    NaN                              NaN   \n",
       "2                                   16.1                             26.0   \n",
       "3                                    NaN                              NaN   \n",
       "4                                   17.6                             29.2   \n",
       "\n",
       "   Physically active in last month: Yes  \n",
       "0                                  68.1  \n",
       "1                                  70.6  \n",
       "2                                  68.0  \n",
       "3                                  69.3  \n",
       "4                                  68.5  \n",
       "\n",
       "[5 rows x 25 columns]"
      ]
     },
     "execution_count": 9,
     "metadata": {},
     "output_type": "execute_result"
    }
   ],
   "source": [
    "#Checking changes\n",
    "\n",
    "eva.head()"
   ]
  },
  {
   "cell_type": "markdown",
   "id": "08d5dc0a",
   "metadata": {},
   "source": [
    "# 3. Bar charts"
   ]
  },
  {
   "cell_type": "markdown",
   "id": "363e1900",
   "metadata": {},
   "source": [
    "### Year"
   ]
  },
  {
   "cell_type": "code",
   "execution_count": 65,
   "id": "846d4a3d",
   "metadata": {},
   "outputs": [
    {
     "data": {
      "text/html": [
       "<div>\n",
       "<style scoped>\n",
       "    .dataframe tbody tr th:only-of-type {\n",
       "        vertical-align: middle;\n",
       "    }\n",
       "\n",
       "    .dataframe tbody tr th {\n",
       "        vertical-align: top;\n",
       "    }\n",
       "\n",
       "    .dataframe thead th {\n",
       "        text-align: right;\n",
       "    }\n",
       "</style>\n",
       "<table border=\"1\" class=\"dataframe\">\n",
       "  <thead>\n",
       "    <tr style=\"text-align: right;\">\n",
       "      <th></th>\n",
       "      <th>BMI: Obese (BMI 30.0 - 99.8)</th>\n",
       "      <th>BMI: Overweight (BMI 25.0-29.9)</th>\n",
       "      <th>BMI: Normal Weight (BMI 18.5-24.9)</th>\n",
       "      <th>BMI: Underweight (BMI 12.0-18.4)</th>\n",
       "      <th>General health: Excellent</th>\n",
       "      <th>General health: Very good</th>\n",
       "      <th>General health: Good</th>\n",
       "      <th>General health: Fair</th>\n",
       "      <th>General health: Poor</th>\n",
       "      <th>Doc visit: Past year</th>\n",
       "      <th>...</th>\n",
       "      <th>Concentrate, remember, decide: Difficult</th>\n",
       "      <th>Bad mental health days: 0</th>\n",
       "      <th>Bad mental health days: 1-13</th>\n",
       "      <th>Bad mental health days: 14+</th>\n",
       "      <th>Fruit eaten: Daily</th>\n",
       "      <th>Vegetables eaten: Daily</th>\n",
       "      <th>Aerobic activity per week: Over 150 min</th>\n",
       "      <th>Met physical activity guidelines: Yes</th>\n",
       "      <th>Strength training: 2x+ per week</th>\n",
       "      <th>Physically active in last month: Yes</th>\n",
       "    </tr>\n",
       "    <tr>\n",
       "      <th>year</th>\n",
       "      <th></th>\n",
       "      <th></th>\n",
       "      <th></th>\n",
       "      <th></th>\n",
       "      <th></th>\n",
       "      <th></th>\n",
       "      <th></th>\n",
       "      <th></th>\n",
       "      <th></th>\n",
       "      <th></th>\n",
       "      <th></th>\n",
       "      <th></th>\n",
       "      <th></th>\n",
       "      <th></th>\n",
       "      <th></th>\n",
       "      <th></th>\n",
       "      <th></th>\n",
       "      <th></th>\n",
       "      <th></th>\n",
       "      <th></th>\n",
       "      <th></th>\n",
       "    </tr>\n",
       "  </thead>\n",
       "  <tbody>\n",
       "    <tr>\n",
       "      <th>2015</th>\n",
       "      <td>1</td>\n",
       "      <td>1</td>\n",
       "      <td>1</td>\n",
       "      <td>1</td>\n",
       "      <td>1</td>\n",
       "      <td>1</td>\n",
       "      <td>1</td>\n",
       "      <td>1</td>\n",
       "      <td>1</td>\n",
       "      <td>1</td>\n",
       "      <td>...</td>\n",
       "      <td>1</td>\n",
       "      <td>0</td>\n",
       "      <td>0</td>\n",
       "      <td>0</td>\n",
       "      <td>1</td>\n",
       "      <td>1</td>\n",
       "      <td>1</td>\n",
       "      <td>1</td>\n",
       "      <td>1</td>\n",
       "      <td>1</td>\n",
       "    </tr>\n",
       "    <tr>\n",
       "      <th>2016</th>\n",
       "      <td>1</td>\n",
       "      <td>1</td>\n",
       "      <td>1</td>\n",
       "      <td>1</td>\n",
       "      <td>1</td>\n",
       "      <td>1</td>\n",
       "      <td>1</td>\n",
       "      <td>1</td>\n",
       "      <td>1</td>\n",
       "      <td>1</td>\n",
       "      <td>...</td>\n",
       "      <td>1</td>\n",
       "      <td>0</td>\n",
       "      <td>0</td>\n",
       "      <td>0</td>\n",
       "      <td>0</td>\n",
       "      <td>0</td>\n",
       "      <td>0</td>\n",
       "      <td>0</td>\n",
       "      <td>0</td>\n",
       "      <td>1</td>\n",
       "    </tr>\n",
       "    <tr>\n",
       "      <th>2017</th>\n",
       "      <td>1</td>\n",
       "      <td>1</td>\n",
       "      <td>1</td>\n",
       "      <td>1</td>\n",
       "      <td>1</td>\n",
       "      <td>1</td>\n",
       "      <td>1</td>\n",
       "      <td>1</td>\n",
       "      <td>1</td>\n",
       "      <td>1</td>\n",
       "      <td>...</td>\n",
       "      <td>1</td>\n",
       "      <td>0</td>\n",
       "      <td>0</td>\n",
       "      <td>0</td>\n",
       "      <td>1</td>\n",
       "      <td>1</td>\n",
       "      <td>1</td>\n",
       "      <td>1</td>\n",
       "      <td>1</td>\n",
       "      <td>1</td>\n",
       "    </tr>\n",
       "    <tr>\n",
       "      <th>2018</th>\n",
       "      <td>1</td>\n",
       "      <td>1</td>\n",
       "      <td>1</td>\n",
       "      <td>1</td>\n",
       "      <td>1</td>\n",
       "      <td>1</td>\n",
       "      <td>1</td>\n",
       "      <td>1</td>\n",
       "      <td>1</td>\n",
       "      <td>1</td>\n",
       "      <td>...</td>\n",
       "      <td>1</td>\n",
       "      <td>0</td>\n",
       "      <td>0</td>\n",
       "      <td>0</td>\n",
       "      <td>0</td>\n",
       "      <td>0</td>\n",
       "      <td>0</td>\n",
       "      <td>0</td>\n",
       "      <td>0</td>\n",
       "      <td>1</td>\n",
       "    </tr>\n",
       "    <tr>\n",
       "      <th>2019</th>\n",
       "      <td>1</td>\n",
       "      <td>1</td>\n",
       "      <td>1</td>\n",
       "      <td>1</td>\n",
       "      <td>1</td>\n",
       "      <td>1</td>\n",
       "      <td>1</td>\n",
       "      <td>1</td>\n",
       "      <td>1</td>\n",
       "      <td>1</td>\n",
       "      <td>...</td>\n",
       "      <td>1</td>\n",
       "      <td>1</td>\n",
       "      <td>1</td>\n",
       "      <td>1</td>\n",
       "      <td>1</td>\n",
       "      <td>1</td>\n",
       "      <td>1</td>\n",
       "      <td>1</td>\n",
       "      <td>1</td>\n",
       "      <td>1</td>\n",
       "    </tr>\n",
       "    <tr>\n",
       "      <th>2020</th>\n",
       "      <td>1</td>\n",
       "      <td>1</td>\n",
       "      <td>1</td>\n",
       "      <td>1</td>\n",
       "      <td>1</td>\n",
       "      <td>1</td>\n",
       "      <td>1</td>\n",
       "      <td>1</td>\n",
       "      <td>1</td>\n",
       "      <td>1</td>\n",
       "      <td>...</td>\n",
       "      <td>1</td>\n",
       "      <td>1</td>\n",
       "      <td>1</td>\n",
       "      <td>1</td>\n",
       "      <td>0</td>\n",
       "      <td>0</td>\n",
       "      <td>0</td>\n",
       "      <td>0</td>\n",
       "      <td>0</td>\n",
       "      <td>1</td>\n",
       "    </tr>\n",
       "    <tr>\n",
       "      <th>2021</th>\n",
       "      <td>1</td>\n",
       "      <td>1</td>\n",
       "      <td>1</td>\n",
       "      <td>1</td>\n",
       "      <td>1</td>\n",
       "      <td>1</td>\n",
       "      <td>1</td>\n",
       "      <td>1</td>\n",
       "      <td>1</td>\n",
       "      <td>1</td>\n",
       "      <td>...</td>\n",
       "      <td>1</td>\n",
       "      <td>1</td>\n",
       "      <td>1</td>\n",
       "      <td>1</td>\n",
       "      <td>1</td>\n",
       "      <td>1</td>\n",
       "      <td>0</td>\n",
       "      <td>0</td>\n",
       "      <td>0</td>\n",
       "      <td>1</td>\n",
       "    </tr>\n",
       "  </tbody>\n",
       "</table>\n",
       "<p>7 rows × 24 columns</p>\n",
       "</div>"
      ],
      "text/plain": [
       "      BMI: Obese (BMI 30.0 - 99.8)  BMI: Overweight (BMI 25.0-29.9)  \\\n",
       "year                                                                  \n",
       "2015                             1                                1   \n",
       "2016                             1                                1   \n",
       "2017                             1                                1   \n",
       "2018                             1                                1   \n",
       "2019                             1                                1   \n",
       "2020                             1                                1   \n",
       "2021                             1                                1   \n",
       "\n",
       "      BMI: Normal Weight (BMI 18.5-24.9)  BMI: Underweight (BMI 12.0-18.4)  \\\n",
       "year                                                                         \n",
       "2015                                   1                                 1   \n",
       "2016                                   1                                 1   \n",
       "2017                                   1                                 1   \n",
       "2018                                   1                                 1   \n",
       "2019                                   1                                 1   \n",
       "2020                                   1                                 1   \n",
       "2021                                   1                                 1   \n",
       "\n",
       "      General health: Excellent  General health: Very good  \\\n",
       "year                                                         \n",
       "2015                          1                          1   \n",
       "2016                          1                          1   \n",
       "2017                          1                          1   \n",
       "2018                          1                          1   \n",
       "2019                          1                          1   \n",
       "2020                          1                          1   \n",
       "2021                          1                          1   \n",
       "\n",
       "      General health: Good  General health: Fair  General health: Poor  \\\n",
       "year                                                                     \n",
       "2015                     1                     1                     1   \n",
       "2016                     1                     1                     1   \n",
       "2017                     1                     1                     1   \n",
       "2018                     1                     1                     1   \n",
       "2019                     1                     1                     1   \n",
       "2020                     1                     1                     1   \n",
       "2021                     1                     1                     1   \n",
       "\n",
       "      Doc visit: Past year  ...  Concentrate, remember, decide: Difficult  \\\n",
       "year                        ...                                             \n",
       "2015                     1  ...                                         1   \n",
       "2016                     1  ...                                         1   \n",
       "2017                     1  ...                                         1   \n",
       "2018                     1  ...                                         1   \n",
       "2019                     1  ...                                         1   \n",
       "2020                     1  ...                                         1   \n",
       "2021                     1  ...                                         1   \n",
       "\n",
       "      Bad mental health days: 0  Bad mental health days: 1-13  \\\n",
       "year                                                            \n",
       "2015                          0                             0   \n",
       "2016                          0                             0   \n",
       "2017                          0                             0   \n",
       "2018                          0                             0   \n",
       "2019                          1                             1   \n",
       "2020                          1                             1   \n",
       "2021                          1                             1   \n",
       "\n",
       "      Bad mental health days: 14+  Fruit eaten: Daily  \\\n",
       "year                                                    \n",
       "2015                            0                   1   \n",
       "2016                            0                   0   \n",
       "2017                            0                   1   \n",
       "2018                            0                   0   \n",
       "2019                            1                   1   \n",
       "2020                            1                   0   \n",
       "2021                            1                   1   \n",
       "\n",
       "      Vegetables eaten: Daily  Aerobic activity per week: Over 150 min  \\\n",
       "year                                                                     \n",
       "2015                        1                                        1   \n",
       "2016                        0                                        0   \n",
       "2017                        1                                        1   \n",
       "2018                        0                                        0   \n",
       "2019                        1                                        1   \n",
       "2020                        0                                        0   \n",
       "2021                        1                                        0   \n",
       "\n",
       "      Met physical activity guidelines: Yes  Strength training: 2x+ per week  \\\n",
       "year                                                                           \n",
       "2015                                      1                                1   \n",
       "2016                                      0                                0   \n",
       "2017                                      1                                1   \n",
       "2018                                      0                                0   \n",
       "2019                                      1                                1   \n",
       "2020                                      0                                0   \n",
       "2021                                      0                                0   \n",
       "\n",
       "      Physically active in last month: Yes  \n",
       "year                                        \n",
       "2015                                     1  \n",
       "2016                                     1  \n",
       "2017                                     1  \n",
       "2018                                     1  \n",
       "2019                                     1  \n",
       "2020                                     1  \n",
       "2021                                     1  \n",
       "\n",
       "[7 rows x 24 columns]"
      ]
     },
     "execution_count": 65,
     "metadata": {},
     "output_type": "execute_result"
    }
   ],
   "source": [
    "# Making year dataframe\n",
    "\n",
    "to_plot = eva.groupby(['year']).mean()\n",
    "to_plot = to_plot.applymap(lambda x: 1 if (x>0) else 0)\n",
    "to_plot"
   ]
  },
  {
   "cell_type": "code",
   "execution_count": 66,
   "id": "7be6ece3",
   "metadata": {
    "scrolled": false
   },
   "outputs": [
    {
     "data": {
      "text/plain": [
       "<AxesSubplot:ylabel='year'>"
      ]
     },
     "execution_count": 66,
     "metadata": {},
     "output_type": "execute_result"
    },
    {
     "data": {
      "image/png": "[encoded data removed]",
      "text/plain": [
       "<Figure size 640x480 with 1 Axes>"
      ]
     },
     "metadata": {},
     "output_type": "display_data"
    }
   ],
   "source": [
    "#Plotting to_plot\n",
    "\n",
    "#sns.catplot(x=to_plot.columns, y=to_plot.index)\n",
    "sns.heatmap(to_plot, linecolor='white', linewidth=2, cmap='Blues', cbar=False, square=True, xticklabels=True)"
   ]
  },
  {
   "cell_type": "markdown",
   "id": "1e3ba6a5",
   "metadata": {},
   "source": [
    "<div class='alert alert-block alert-info'>\n",
    "    <b>Bad mental health days</b> only have records for 2019-2021.<br>\n",
    "    <b>Fruit and Vegetables eaten</b> only have records for odd years.<br>\n",
    "    <b>Aerobic activity per week, Met physical activity guidelines, and Strength training</b> only have records for 2015, 2017, and 2019.<br>\n",
    "    <br>\n",
    "    All other variables have some records for each year.\n",
    "   </div>"
   ]
  },
  {
   "cell_type": "markdown",
   "id": "5b08c280",
   "metadata": {},
   "source": [
    "### BMI"
   ]
  },
  {
   "cell_type": "code",
   "execution_count": 72,
   "id": "9cf00448",
   "metadata": {},
   "outputs": [
    {
     "data": {
      "text/plain": [
       "BMI: Obese (BMI 30.0 - 99.8)          31.265195\n",
       "BMI: Overweight (BMI 25.0-29.9)       34.944935\n",
       "BMI: Normal Weight (BMI 18.5-24.9)    31.946234\n",
       "BMI: Underweight (BMI 12.0-18.4)       1.837795\n",
       "dtype: float64"
      ]
     },
     "execution_count": 72,
     "metadata": {},
     "output_type": "execute_result"
    }
   ],
   "source": [
    "# Making BMI dataframe\n",
    "\n",
    "to_plot = eva.iloc[:,1:5].mean().copy()\n",
    "to_plot"
   ]
  },
  {
   "cell_type": "code",
   "execution_count": 73,
   "id": "3a244c0a",
   "metadata": {
    "scrolled": false
   },
   "outputs": [
    {
     "data": {
      "text/plain": [
       "<AxesSubplot:>"
      ]
     },
     "execution_count": 73,
     "metadata": {},
     "output_type": "execute_result"
    },
    {
     "data": {
      "image/png": "[encoded data removed]",
      "text/plain": [
       "<Figure size 640x480 with 1 Axes>"
      ]
     },
     "metadata": {},
     "output_type": "display_data"
    }
   ],
   "source": [
    "#Plotting to_plot\n",
    "\n",
    "to_plot.plot.bar()"
   ]
  },
  {
   "cell_type": "markdown",
   "id": "bc078ace",
   "metadata": {},
   "source": [
    "<div class='alert alert-block alert-info'>\n",
    "    <b>31% of Americans are obese.</b><br>\n",
    "    <b>35% of Americans are overweight.</b><br>\n",
    "    <em>32% of Americans are normal weight.</em><br>\n",
    "    2% of Americans are underweight.\n",
    "   </div>"
   ]
  },
  {
   "cell_type": "markdown",
   "id": "a7111101",
   "metadata": {},
   "source": [
    "### General Health"
   ]
  },
  {
   "cell_type": "code",
   "execution_count": 75,
   "id": "01037ad8",
   "metadata": {},
   "outputs": [
    {
     "data": {
      "text/plain": [
       "General health: Excellent    18.677143\n",
       "General health: Very good    32.645195\n",
       "General health: Good         31.484935\n",
       "General health: Fair         12.795844\n",
       "General health: Poor          4.397922\n",
       "dtype: float64"
      ]
     },
     "execution_count": 75,
     "metadata": {},
     "output_type": "execute_result"
    }
   ],
   "source": [
    "# Making general health dataframe\n",
    "\n",
    "to_plot = eva.iloc[:,5:10].mean().copy()\n",
    "to_plot"
   ]
  },
  {
   "cell_type": "code",
   "execution_count": 76,
   "id": "e7298a0d",
   "metadata": {
    "scrolled": false
   },
   "outputs": [
    {
     "data": {
      "text/plain": [
       "<AxesSubplot:>"
      ]
     },
     "execution_count": 76,
     "metadata": {},
     "output_type": "execute_result"
    },
    {
     "data": {
      "image/png": "[encoded data removed]",
      "text/plain": [
       "<Figure size 640x480 with 1 Axes>"
      ]
     },
     "metadata": {},
     "output_type": "display_data"
    }
   ],
   "source": [
    "#Plotting to_plot\n",
    "\n",
    "to_plot.plot.bar()"
   ]
  },
  {
   "cell_type": "markdown",
   "id": "15559cd5",
   "metadata": {},
   "source": [
    "<div class='alert alert-block alert-info'>\n",
    "    18% of Americans report being in excellent health.<br>\n",
    "    <b>65% of Americans report being in good or very good health.</b><br>\n",
    "    13% of Americans report being in fair health.<br>\n",
    "    4% of Americans report being in poor health.\n",
    "   </div>"
   ]
  },
  {
   "cell_type": "markdown",
   "id": "f3884916",
   "metadata": {},
   "source": [
    "### Doctor visits"
   ]
  },
  {
   "cell_type": "code",
   "execution_count": 82,
   "id": "9b982f48",
   "metadata": {},
   "outputs": [
    {
     "data": {
      "text/plain": [
       "Doc visit: Past year       73.182597\n",
       "Doc visit: Past 2 years    12.429610\n",
       "Doc visit: Past 5 years     7.045974\n",
       "Doc visit: 5+ years ago     6.465885\n",
       "Doc visit: Never            0.969419\n",
       "dtype: float64"
      ]
     },
     "execution_count": 82,
     "metadata": {},
     "output_type": "execute_result"
    }
   ],
   "source": [
    "# Making doctor visits dataframe\n",
    "\n",
    "to_plot = eva.iloc[:,10:15].mean().copy()\n",
    "to_plot"
   ]
  },
  {
   "cell_type": "code",
   "execution_count": 83,
   "id": "7a3347bb",
   "metadata": {
    "scrolled": false
   },
   "outputs": [
    {
     "data": {
      "text/plain": [
       "<AxesSubplot:>"
      ]
     },
     "execution_count": 83,
     "metadata": {},
     "output_type": "execute_result"
    },
    {
     "data": {
      "image/png": "[encoded data removed]",
      "text/plain": [
       "<Figure size 640x480 with 1 Axes>"
      ]
     },
     "metadata": {},
     "output_type": "display_data"
    }
   ],
   "source": [
    "#Plotting to_plot\n",
    "\n",
    "to_plot.plot.bar()"
   ]
  },
  {
   "cell_type": "markdown",
   "id": "a16471c3",
   "metadata": {},
   "source": [
    "<div class='alert alert-block alert-info'>\n",
    "    <b>72% of Americans have seen a doctor in the last year.</b><br>\n",
    "    84% of Americans have seen a doctor in the last 2 years.<br>\n",
    "    <b>Only 1% of Americans have never seen a doctor.\n",
    "   </div>"
   ]
  },
  {
   "cell_type": "markdown",
   "id": "4d3f683b",
   "metadata": {},
   "source": [
    "### Mental Health"
   ]
  },
  {
   "cell_type": "code",
   "execution_count": 84,
   "id": "2c71861f",
   "metadata": {},
   "outputs": [
    {
     "data": {
      "text/plain": [
       "Concentrate, remember, decide: Difficult    11.403117\n",
       "Bad mental health days: 0                   61.115854\n",
       "Bad mental health days: 1-13                24.821341\n",
       "Bad mental health days: 14+                 14.040854\n",
       "dtype: float64"
      ]
     },
     "execution_count": 84,
     "metadata": {},
     "output_type": "execute_result"
    }
   ],
   "source": [
    "# Making mental health dataframe\n",
    "\n",
    "to_plot = eva.iloc[:,15:19].mean().copy()\n",
    "to_plot"
   ]
  },
  {
   "cell_type": "code",
   "execution_count": 85,
   "id": "112d345d",
   "metadata": {
    "scrolled": false
   },
   "outputs": [
    {
     "data": {
      "text/plain": [
       "<AxesSubplot:>"
      ]
     },
     "execution_count": 85,
     "metadata": {},
     "output_type": "execute_result"
    },
    {
     "data": {
      "image/png": "[encoded data removed]",
      "text/plain": [
       "<Figure size 640x480 with 1 Axes>"
      ]
     },
     "metadata": {},
     "output_type": "display_data"
    }
   ],
   "source": [
    "#Plotting to_plot\n",
    "\n",
    "to_plot.plot.bar()"
   ]
  },
  {
   "cell_type": "markdown",
   "id": "4e28996b",
   "metadata": {},
   "source": [
    "<div class='alert alert-block alert-info'>\n",
    "    11% of Americans experience difficulty concentrating, remembering, and/or deciding.<br>\n",
    "    <b>61% of Americans experience no days of bad mental health per year.</b><br>\n",
    "    25% of Americans experience 1-13 days of bad mental health per year.<br>\n",
    "    14% of Americans experience 14 or more days of bad health per year.\n",
    "   </div>"
   ]
  },
  {
   "cell_type": "markdown",
   "id": "e2adbe1c",
   "metadata": {},
   "source": [
    "### DietaryHealth"
   ]
  },
  {
   "cell_type": "code",
   "execution_count": 86,
   "id": "33b6568e",
   "metadata": {},
   "outputs": [
    {
     "data": {
      "text/plain": [
       "Fruit eaten: Daily         60.250228\n",
       "Vegetables eaten: Daily    79.415068\n",
       "dtype: float64"
      ]
     },
     "execution_count": 86,
     "metadata": {},
     "output_type": "execute_result"
    }
   ],
   "source": [
    "# Making mental health dataframe\n",
    "\n",
    "to_plot = eva.iloc[:,19:21].mean().copy()\n",
    "to_plot"
   ]
  },
  {
   "cell_type": "code",
   "execution_count": 87,
   "id": "5dfeda7c",
   "metadata": {
    "scrolled": false
   },
   "outputs": [
    {
     "data": {
      "text/plain": [
       "<AxesSubplot:>"
      ]
     },
     "execution_count": 87,
     "metadata": {},
     "output_type": "execute_result"
    },
    {
     "data": {
      "image/png": "[encoded data removed]",
      "text/plain": [
       "<Figure size 640x480 with 1 Axes>"
      ]
     },
     "metadata": {},
     "output_type": "display_data"
    }
   ],
   "source": [
    "#Plotting to_plot\n",
    "\n",
    "to_plot.plot.bar()"
   ]
  },
  {
   "cell_type": "markdown",
   "id": "9403af2c",
   "metadata": {},
   "source": [
    "<div class='alert alert-block alert-info'>\n",
    "    60% of Americans eat fruit daily.<br>\n",
    "    <b>79% of Americans eat vegetables daily.</b><br>\n",
    "   </div>"
   ]
  },
  {
   "cell_type": "markdown",
   "id": "deffe053",
   "metadata": {},
   "source": [
    "### Physical activity"
   ]
  },
  {
   "cell_type": "code",
   "execution_count": 88,
   "id": "e2779787",
   "metadata": {},
   "outputs": [
    {
     "data": {
      "text/plain": [
       "Aerobic activity per week: Over 150 min    50.448171\n",
       "Met physical activity guidelines: Yes      20.904268\n",
       "Strength training: 2x+ per week            31.435366\n",
       "Physically active in last month: Yes       74.837922\n",
       "dtype: float64"
      ]
     },
     "execution_count": 88,
     "metadata": {},
     "output_type": "execute_result"
    }
   ],
   "source": [
    "# Making mental health dataframe\n",
    "\n",
    "to_plot = eva.iloc[:,21:].mean().copy()\n",
    "to_plot"
   ]
  },
  {
   "cell_type": "code",
   "execution_count": 89,
   "id": "0c3ef5aa",
   "metadata": {
    "scrolled": false
   },
   "outputs": [
    {
     "data": {
      "text/plain": [
       "<AxesSubplot:>"
      ]
     },
     "execution_count": 89,
     "metadata": {},
     "output_type": "execute_result"
    },
    {
     "data": {
      "image/png": "[encoded data removed]",
      "text/plain": [
       "<Figure size 640x480 with 1 Axes>"
      ]
     },
     "metadata": {},
     "output_type": "display_data"
    }
   ],
   "source": [
    "#Plotting to_plot\n",
    "\n",
    "to_plot.plot.bar()"
   ]
  },
  {
   "cell_type": "markdown",
   "id": "ada70a4c",
   "metadata": {},
   "source": [
    "<div class='alert alert-block alert-info'>\n",
    "    50% of Americans engage aerobic activity for in 150 minutes or more per week.<br>\n",
    "    <b>21% of Americans met the BRFSS physical activity guidelines.</b><br>\n",
    "    31% of Americans strength train 2 or more times per week.<br>\n",
    "    <b>76% of Americans are physically active at least once a month.</b>\n",
    "   </div>"
   ]
  },
  {
   "cell_type": "markdown",
   "id": "01ec5970",
   "metadata": {},
   "source": [
    "# 6. Conclusion"
   ]
  },
  {
   "cell_type": "markdown",
   "id": "f405a9ab",
   "metadata": {},
   "source": [
    "<div class='alert alert-block alert-warning'><b>\n",
    "    <li>Bad mental health days: 0, Bad mental health days: 1-13, Bad mental health days: 14+, Aerobic activity per week: 150 min, Met physical activity guidelines: yes, and Strength training: 2x+ per week will not add insight to the COVID-19 analysis due to their lack of records.<br>\n",
    "     <li>66% of Americans are overweight or obese.<br>\n",
    "     <li>83% of Americans feel they are in good, very good, or excellent health.<br>\n",
    "     <li>84% of Americans see a doctor at least once every two years.<br>\n",
    "     <li>61% of Americans experience 0 days of bad mental health per year.<br>\n",
    "     <li>14% of Americans experience 14 or more days of bad health per year.<br>\n",
    "     <li>11% of Americans experience difficulty concentrating, remembering, and/or deciding.<br>\n",
    "     <li>Most Americans consume fruits and vegetables daily.<br>\n",
    "     <li>Only 21% of Americans meet the BRFSS physical activity guidelines.<br>\n",
    "     <li>24% of Americans can go an entire month without any physical activity.\n",
    "    </b></div>"
   ]
  }
 ],
 "metadata": {
  "kernelspec": {
   "display_name": "Python 3 (ipykernel)",
   "language": "python",
   "name": "python3"
  },
  "language_info": {
   "codemirror_mode": {
    "name": "ipython",
    "version": 3
   },
   "file_extension": ".py",
   "mimetype": "text/x-python",
   "name": "python",
   "nbconvert_exporter": "python",
   "pygments_lexer": "ipython3",
   "version": "3.9.13"
  }
 },
 "nbformat": 4,
 "nbformat_minor": 5
}
